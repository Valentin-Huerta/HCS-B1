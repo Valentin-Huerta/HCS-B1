{
 "cells": [
  {
   "cell_type": "markdown",
   "metadata": {},
   "source": [
    "# Facebook Message Analyzer"
   ]
  },
  {
   "cell_type": "markdown",
   "metadata": {},
   "source": [
    "<b> Current Features For a Given Chat: </b>\n",
    "<ul> \n",
    "    <li> Number of Messages Sent </li> \n",
    "    <li> Messages Sent Over Time </li> \n",
    "    <li> Average Word Count </li>\n",
    "</ul>"
   ]
  },
  {
   "cell_type": "code",
   "execution_count": 1,
   "metadata": {},
   "outputs": [],
   "source": [
    "import os\n",
    "import json\n",
    "import numpy as np\n",
    "import pylab as pl\n",
    "import datetime\n",
    "\n",
    "CURRENT_DIRECTORY = os.getcwd()\n",
    "NUMBER_TO_ANALYZE = 5000\n",
    "MESSAGE_THRESHOLD = 10\n",
    "MESSAGE_BOUND = 1000"
   ]
  },
  {
   "cell_type": "code",
   "execution_count": 2,
   "metadata": {},
   "outputs": [],
   "source": [
    "def get_json_data(chat):\n",
    "    try:\n",
    "        json_location = CURRENT_DIRECTORY + \"/messages/\" + chat + \"/message.json\"\n",
    "        with open(json_location) as json_file:\n",
    "            json_data = json.load(json_file)\n",
    "            return json_data\n",
    "    except IOError:\n",
    "        pass # some things the directory aren't messages (DS_Store, stickers_used, etc.)\n",
    "    \n",
    "    \n",
    "def get_json_data(chat):\n",
    "    try:\n",
    "        json_location = CURRENT_DIRECTORY + \"/messages/\" + chat + \"/message.json\"\n",
    "        with open(json_location) as json_file:\n",
    "            json_data = json.load(json_file)\n",
    "            return json_data\n",
    "    except IOError:\n",
    "        pass # some things the directory aren't messages (DS_Store, stickers_used, etc.)\n"
   ]
  },
  {
   "cell_type": "code",
   "execution_count": 3,
   "metadata": {},
   "outputs": [],
   "source": [
    "chats = os.listdir(CURRENT_DIRECTORY + \"/messages/\")[:NUMBER_TO_ANALYZE]\n",
    "sorted_chats = []\n",
    "final_data_messages = {}\n",
    "final_data_times = {}\n",
    "final_data_words = {}\n",
    "invalid_message_count = 0\n",
    "\n",
    "\n",
    "chats = os.listdir(CURRENT_DIRECTORY + \"/messages/\")[:NUMBER_TO_ANALYZE]\n",
    "sorted_chats = []\n",
    "final_data_messages = {}\n",
    "final_data_times = {}\n",
    "final_data_words = {}\n",
    "invalid_message_count = 0"
   ]
  },
  {
   "cell_type": "code",
   "execution_count": 4,
   "metadata": {},
   "outputs": [
    {
     "name": "stdout",
     "output_type": "stream",
     "text": [
      "Analyzing 6 chats...\n",
      ".DS_Store\n",
      "adamdonnelly_8f40ea0790\n",
      "Indoorsoccer_ea14b34757\n",
      "kaialangathianos_95580a3269\n",
      "kevindillon_f6193ac9b8\n",
      "michaelwernig_1089dcbaf3\n",
      "Finished processing chats...\n",
      "Analyzing 6 chats...\n",
      ".DS_Store\n",
      "adamdonnelly_8f40ea0790\n",
      "Indoorsoccer_ea14b34757\n",
      "kaialangathianos_95580a3269\n",
      "kevindillon_f6193ac9b8\n",
      "michaelwernig_1089dcbaf3\n",
      "Finished processing chats...\n"
     ]
    }
   ],
   "source": [
    "print('Analyzing ' + str(min(NUMBER_TO_ANALYZE, len(chats))) + ' chats...')\n",
    "\n",
    "for chat in chats:\n",
    "    url = chat + '/message.json'\n",
    "    json_data = get_json_data(chat)\n",
    "    print(chat)\n",
    "    if json_data != None:\n",
    "        messages = json_data[\"messages\"]\n",
    "        if len(messages) >= MESSAGE_THRESHOLD and len(messages) <= MESSAGE_BOUND:\n",
    "            sorted_chats.append((len(messages), chat, messages))\n",
    "\n",
    "sorted_chats.sort(reverse=True)\n",
    "\n",
    "print('Finished processing chats...')\n",
    "\n",
    "\n",
    "print('Analyzing ' + str(min(NUMBER_TO_ANALYZE, len(chats))) + ' chats...')\n",
    "\n",
    "for chat in chats:\n",
    "    url = chat + '/message.json'\n",
    "    json_data = get_json_data(chat)\n",
    "    print(chat)\n",
    "    if json_data != None:\n",
    "        messages = json_data[\"messages\"]\n",
    "        if len(messages) >= MESSAGE_THRESHOLD and len(messages) <= MESSAGE_BOUND:\n",
    "            sorted_chats.append((len(messages), chat, messages))\n",
    "\n",
    "sorted_chats.sort(reverse=True)\n",
    "\n",
    "print('Finished processing chats...')"
   ]
  },
  {
   "cell_type": "code",
   "execution_count": 5,
   "metadata": {},
   "outputs": [
    {
     "name": "stdout",
     "output_type": "stream",
     "text": [
      "0 - 497 messages - Indoorsoccer_ea14b34757\n",
      "1 - 497 messages - Indoorsoccer_ea14b34757\n",
      "2 - 121 messages - michaelwernig_1089dcbaf3\n",
      "3 - 121 messages - michaelwernig_1089dcbaf3\n",
      "4 - 108 messages - kaialangathianos_95580a3269\n",
      "5 - 108 messages - kaialangathianos_95580a3269\n",
      "6 - 53 messages - adamdonnelly_8f40ea0790\n",
      "7 - 53 messages - adamdonnelly_8f40ea0790\n",
      "Found 2 invalid messages...\n",
      "Found 8 chats with 10 messages or more\n"
     ]
    }
   ],
   "source": [
    "for i, (messages, chat, messages) in enumerate(sorted_chats):\n",
    "    number_messages = {}\n",
    "    person_to_times = {}\n",
    "    number_words = {}\n",
    "\n",
    "    print(str(i) + \" - \" + str(len(messages)) + \" messages - \" + str(chat))\n",
    "\n",
    "    for message in messages:\n",
    "        try:\n",
    "            name = message[\"sender_name\"]\n",
    "            time = message[\"timestamp_ms\"]\n",
    "            message_content = message[\"content\"]\n",
    "\n",
    "            number_messages[name] = number_messages.get(name, 0)\n",
    "            number_messages[name] += 1\n",
    "\n",
    "            person_to_times[name] = person_to_times.get(name, [])\n",
    "            person_to_times[name].append(datetime.datetime.fromtimestamp(time/1000.0))\n",
    "\n",
    "            number_words[name] = number_words.get(name, [])\n",
    "            number_words[name].append(len(message_content.split()))\n",
    "        except KeyError:\n",
    "            # happens for special cases like users who deactivated, unfriended, blocked\n",
    "            invalid_message_count += 1\n",
    "\n",
    "    final_data_messages[i] = number_messages\n",
    "    final_data_times[i] = person_to_times\n",
    "    final_data_words[i] = number_words\n",
    "\n",
    "print('Found ' + str(invalid_message_count) + ' invalid messages...')\n",
    "print('Found ' + str(len(sorted_chats)) + ' chats with ' + str(MESSAGE_THRESHOLD) + ' messages or more')\n",
    "\n"
   ]
  },
  {
   "cell_type": "code",
   "execution_count": 97,
   "metadata": {},
   "outputs": [],
   "source": [
    "def plot_num_messages(chat_number):\n",
    "    plotted_data = final_data_messages[chat_number]\n",
    "    X = np.arange(len(plotted_data))\n",
    "    pl.bar(X, list(plotted_data.values()), align='center', width=0.5, color = 'r', bottom = 0.3)\n",
    "    pl.xticks(X, plotted_data.keys(), rotation = 90)\n",
    "    pl.title('Number of Messages Sent')\n",
    "    pl.tight_layout()\n",
    "    pl.show()\n",
    "    \n",
    "def plot_histogram_time(chat_number):\n",
    "    person_to_times = final_data_times[chat_number]\n",
    "    pl.xlabel('Time')\n",
    "    pl.ylabel('Number of Messages')\n",
    "    pl.title('# of Messages Over Time')\n",
    "    colors = ['b', 'r', 'c', 'm', 'y', 'k', 'w', 'g']\n",
    "    for i , person in enumerate(person_to_times):\n",
    "        plotted_data = person_to_times[person]\n",
    "        pl.hist(plotted_data, 100, alpha=0.3, label=person, facecolor=colors[i % len(colors)])\n",
    "    pl.legend()\n",
    "    pl.xticks(rotation=90)\n",
    "    pl.tight_layout()\n",
    "    pl.show()\n",
    "\n",
    "def plot_histogram_words(chat_number):\n",
    "    temp = {}\n",
    "    for person in final_data_words[chat_number]:\n",
    "        temp[person] = np.average(final_data_words[chat_number][person])\n",
    "    plotted_data = temp\n",
    "    X = np.arange(len(plotted_data))\n",
    "    pl.bar(X, list(plotted_data.values()), align='center', width=0.5, color = 'r', bottom = 0.3)\n",
    "    pl.xticks(X, plotted_data.keys(), rotation = 90)\n",
    "    pl.title('Average Word Count')\n",
    "    pl.tight_layout()\n",
    "    pl.show()\n",
    "    \n",
    "def plot(chat_number):\n",
    "    plot_num_messages(chat_number)\n",
    "    #plot_histogram_time(chat_number)\n",
    "    #plot_histogram_words(chat_number)"
   ]
  },
  {
   "cell_type": "markdown",
   "metadata": {},
   "source": [
    "# Extra-Analysis 1\n",
    "## Number of messages that a certain person sent per chat"
   ]
  },
  {
   "cell_type": "code",
   "execution_count": 195,
   "metadata": {},
   "outputs": [],
   "source": [
    "def Calc_nb_of_messages_per_person_per_chat(name):\n",
    "    sumWordsPerChat = {}\n",
    "    dic = final_data_words\n",
    "    #print(dic)\n",
    "    for numDict in range(5):\n",
    "        person = dic[numDict][name]\n",
    "        sumWordsPerChat[numDict] = sum(person)\n",
    "    plotted_data = sumWordsPerChat\n",
    "    X = np.arange(len(plotted_data))\n",
    "    pl.bar(X, list(plotted_data.values()), align='center', width=0.5, color = 'r', bottom = 0.3)\n",
    "    title = 'Count Nb. of messages per chat for person: ' + name\n",
    "    pl.xticks(X, plotted_data.keys(), rotation = 90)\n",
    "    pl.title(title)\n",
    "    pl.tight_layout()\n",
    "    pl.show()"
   ]
  },
  {
   "cell_type": "code",
   "execution_count": 196,
   "metadata": {},
   "outputs": [
    {
     "data": {
      "image/png": "[encoded data removed]",
      "text/plain": [
       "<Figure size 432x288 with 1 Axes>"
      ]
     },
     "metadata": {},
     "output_type": "display_data"
    }
   ],
   "source": [
    "# State name of person you want to analyze here\n",
    "name = 'Connor Leggett'\n",
    "\n",
    "Calc_nb_of_messages_per_person_per_chat(name)"
   ]
  },
  {
   "cell_type": "markdown",
   "metadata": {},
   "source": [
    "# Extra-Analysis 2\n",
    "## Proportion of messages that a certain person sent during a daytime per chat"
   ]
  },
  {
   "cell_type": "code",
   "execution_count": 197,
   "metadata": {},
   "outputs": [],
   "source": [
    "def Perc_answer_at_night(name, numDict):\n",
    "    sumWordsPerChat = {}\n",
    "    dic = final_data_times\n",
    "    #print(dic)\n",
    "    \n",
    "    person = dic[numDict][name]\n",
    "    counter = 0\n",
    "    for i in range(len(person)):\n",
    "        #print(person[i])\n",
    "        if person[i].hour == 16:\n",
    "            counter += 1\n",
    "            #print(counter)\n",
    "\n",
    "    print(\"Nb. of messages at specified daytime: \", counter)\n",
    "    print(\"Total number of messages in chat: \", len(person))\n",
    "    print(\"Proportion: \", counter/len(person))\n"
   ]
  },
  {
   "cell_type": "code",
   "execution_count": 198,
   "metadata": {},
   "outputs": [
    {
     "name": "stdout",
     "output_type": "stream",
     "text": [
      "Nb. of messages at specified daytime:  5\n",
      "Total number of messages in chat:  11\n",
      "Proportion:  0.45454545454545453\n"
     ]
    }
   ],
   "source": [
    "# Define name, hour of the day and chat here\n",
    "name = 'Connor Leggett'\n",
    "hourTime = 16\n",
    "numDict = 1\n",
    "\n",
    "Perc_answer_at_night(name,numDict)"
   ]
  }
 ],
 "metadata": {
  "kernelspec": {
   "display_name": "Python 3",
   "language": "python",
   "name": "python3"
  },
  "language_info": {
   "codemirror_mode": {
    "name": "ipython",
    "version": 3
   },
   "file_extension": ".py",
   "mimetype": "text/x-python",
   "name": "python",
   "nbconvert_exporter": "python",
   "pygments_lexer": "ipython3",
   "version": "3.6.5"
  }
 },
 "nbformat": 4,
 "nbformat_minor": 2
}
